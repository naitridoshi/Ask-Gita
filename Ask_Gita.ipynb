{
  "cells": [
    {
      "cell_type": "code",
      "execution_count": 1,
      "metadata": {
        "colab": {
          "base_uri": "https://localhost:8080/"
        },
        "id": "R_bPX2g7Q7XR",
        "outputId": "11e35821-5e6e-4798-c9a4-a672b1531ec5"
      },
      "outputs": [
        {
          "name": "stdout",
          "output_type": "stream",
          "text": [
            "Cloning into 'Ask-Gita'...\n",
            "remote: Enumerating objects: 13, done.\u001b[K\n",
            "remote: Counting objects: 100% (13/13), done.\u001b[K\n",
            "remote: Compressing objects: 100% (10/10), done.\u001b[K\n",
            "remote: Total 13 (delta 1), reused 13 (delta 1), pack-reused 0\u001b[K\n",
            "Receiving objects: 100% (13/13), 3.82 MiB | 46.00 MiB/s, done.\n",
            "Resolving deltas: 100% (1/1), done.\n"
          ]
        }
      ],
      "source": [
        "!git clone https://github.com/naitridoshi/Ask-Gita.git"
      ]
    },
    {
      "cell_type": "code",
      "execution_count": 2,
      "metadata": {
        "colab": {
          "base_uri": "https://localhost:8080/"
        },
        "id": "E8adHImaSg66",
        "outputId": "5b9529bd-70e6-43bf-d15c-1cb20a8ec9cf"
      },
      "outputs": [
        {
          "name": "stdout",
          "output_type": "stream",
          "text": [
            "/content/Ask-Gita\n"
          ]
        }
      ],
      "source": [
        "%cd Ask-Gita"
      ]
    },
    {
      "cell_type": "code",
      "execution_count": 3,
      "metadata": {
        "colab": {
          "base_uri": "https://localhost:8080/",
          "height": 1000
        },
        "id": "1GcJhpERRFUN",
        "outputId": "5fe5a2a0-463c-4cad-a67f-46bd0463f04f"
      },
      "outputs": [
        {
          "name": "stdout",
          "output_type": "stream",
          "text": [
            "Collecting langchain==0.0.274 (from -r requirements.txt (line 1))\n",
            "  Downloading langchain-0.0.274-py3-none-any.whl (1.6 MB)\n",
            "\u001b[2K     \u001b[90m━━━━━━━━━━━━━━━━━━━━━━━━━━━━━━━━━━━━━━━━\u001b[0m \u001b[32m1.6/1.6 MB\u001b[0m \u001b[31m14.6 MB/s\u001b[0m eta \u001b[36m0:00:00\u001b[0m\n",
            "\u001b[?25hCollecting gpt4all==1.0.8 (from -r requirements.txt (line 2))\n",
            "  Downloading gpt4all-1.0.8-py3-none-manylinux1_x86_64.whl (4.2 MB)\n",
            "\u001b[2K     \u001b[90m━━━━━━━━━━━━━━━━━━━━━━━━━━━━━━━━━━━━━━━━\u001b[0m \u001b[32m4.2/4.2 MB\u001b[0m \u001b[31m4.7 MB/s\u001b[0m eta \u001b[36m0:00:00\u001b[0m\n",
            "\u001b[?25hCollecting chromadb==0.4.7 (from -r requirements.txt (line 3))\n",
            "  Downloading chromadb-0.4.7-py3-none-any.whl (415 kB)\n",
            "\u001b[2K     \u001b[90m━━━━━━━━━━━━━━━━━━━━━━━━━━━━━━━━━━━━━━━━\u001b[0m \u001b[32m415.5/415.5 kB\u001b[0m \u001b[31m45.2 MB/s\u001b[0m eta \u001b[36m0:00:00\u001b[0m\n",
            "\u001b[?25hCollecting llama-cpp-python==0.1.81 (from -r requirements.txt (line 4))\n",
            "  Downloading llama_cpp_python-0.1.81.tar.gz (1.8 MB)\n",
            "\u001b[2K     \u001b[90m━━━━━━━━━━━━━━━━━━━━━━━━━━━━━━━━━━━━━━━━\u001b[0m \u001b[32m1.8/1.8 MB\u001b[0m \u001b[31m70.9 MB/s\u001b[0m eta \u001b[36m0:00:00\u001b[0m\n",
            "\u001b[?25h  Installing build dependencies ... \u001b[?25l\u001b[?25hdone\n",
            "  Getting requirements to build wheel ... \u001b[?25l\u001b[?25hdone\n",
            "  Preparing metadata (pyproject.toml) ... \u001b[?25l\u001b[?25hdone\n",
            "Collecting urllib3==2.0.4 (from -r requirements.txt (line 5))\n",
            "  Downloading urllib3-2.0.4-py3-none-any.whl (123 kB)\n",
            "\u001b[2K     \u001b[90m━━━━━━━━━━━━━━━━━━━━━━━━━━━━━━━━━━━━━━━━\u001b[0m \u001b[32m123.9/123.9 kB\u001b[0m \u001b[31m16.2 MB/s\u001b[0m eta \u001b[36m0:00:00\u001b[0m\n",
            "\u001b[?25hCollecting PyMuPDF==1.23.1 (from -r requirements.txt (line 6))\n",
            "  Downloading PyMuPDF-1.23.1-cp310-none-manylinux2014_x86_64.whl (4.3 MB)\n",
            "\u001b[2K     \u001b[90m━━━━━━━━━━━━━━━━━━━━━━━━━━━━━━━━━━━━━━━━\u001b[0m \u001b[32m4.3/4.3 MB\u001b[0m \u001b[31m2.0 MB/s\u001b[0m eta \u001b[36m0:00:00\u001b[0m\n",
            "\u001b[?25hCollecting python-dotenv==1.0.0 (from -r requirements.txt (line 7))\n",
            "  Downloading python_dotenv-1.0.0-py3-none-any.whl (19 kB)\n",
            "Collecting unstructured==0.10.8 (from -r requirements.txt (line 8))\n",
            "  Downloading unstructured-0.10.8-py3-none-any.whl (1.5 MB)\n",
            "\u001b[2K     \u001b[90m━━━━━━━━━━━━━━━━━━━━━━━━━━━━━━━━━━━━━━━━\u001b[0m \u001b[32m1.5/1.5 MB\u001b[0m \u001b[31m5.4 MB/s\u001b[0m eta \u001b[36m0:00:00\u001b[0m\n",
            "\u001b[?25hCollecting extract-msg==0.45.0 (from -r requirements.txt (line 9))\n",
            "  Downloading extract_msg-0.45.0-py2.py3-none-any.whl (303 kB)\n",
            "\u001b[2K     \u001b[90m━━━━━━━━━━━━━━━━━━━━━━━━━━━━━━━━━━━━━━━━\u001b[0m \u001b[32m303.4/303.4 kB\u001b[0m \u001b[31m38.7 MB/s\u001b[0m eta \u001b[36m0:00:00\u001b[0m\n",
            "\u001b[?25hRequirement already satisfied: tabulate==0.9.0 in /usr/local/lib/python3.10/dist-packages (from -r requirements.txt (line 10)) (0.9.0)\n",
            "Collecting pandoc==2.3 (from -r requirements.txt (line 11))\n",
            "  Downloading pandoc-2.3.tar.gz (33 kB)\n",
            "  Preparing metadata (setup.py) ... \u001b[?25l\u001b[?25hdone\n",
            "Collecting pypandoc==1.11 (from -r requirements.txt (line 12))\n",
            "  Downloading pypandoc-1.11-py3-none-any.whl (20 kB)\n",
            "Requirement already satisfied: tqdm==4.66.1 in /usr/local/lib/python3.10/dist-packages (from -r requirements.txt (line 13)) (4.66.1)\n",
            "Collecting sentence_transformers==2.2.2 (from -r requirements.txt (line 14))\n",
            "  Downloading sentence-transformers-2.2.2.tar.gz (85 kB)\n",
            "\u001b[2K     \u001b[90m━━━━━━━━━━━━━━━━━━━━━━━━━━━━━━━━━━━━━━━━\u001b[0m \u001b[32m86.0/86.0 kB\u001b[0m \u001b[31m12.6 MB/s\u001b[0m eta \u001b[36m0:00:00\u001b[0m\n",
            "\u001b[?25h  Preparing metadata (setup.py) ... \u001b[?25l\u001b[?25hdone\n",
            "Collecting InstructorEmbedding (from -r requirements.txt (line 15))\n",
            "  Downloading InstructorEmbedding-1.0.1-py2.py3-none-any.whl (19 kB)\n",
            "Requirement already satisfied: huggingface_hub in /usr/local/lib/python3.10/dist-packages (from -r requirements.txt (line 16)) (0.20.3)\n",
            "Requirement already satisfied: PyYAML>=5.3 in /usr/local/lib/python3.10/dist-packages (from langchain==0.0.274->-r requirements.txt (line 1)) (6.0.1)\n",
            "Requirement already satisfied: SQLAlchemy<3,>=1.4 in /usr/local/lib/python3.10/dist-packages (from langchain==0.0.274->-r requirements.txt (line 1)) (2.0.24)\n",
            "Requirement already satisfied: aiohttp<4.0.0,>=3.8.3 in /usr/local/lib/python3.10/dist-packages (from langchain==0.0.274->-r requirements.txt (line 1)) (3.9.3)\n",
            "Requirement already satisfied: async-timeout<5.0.0,>=4.0.0 in /usr/local/lib/python3.10/dist-packages (from langchain==0.0.274->-r requirements.txt (line 1)) (4.0.3)\n",
            "Collecting dataclasses-json<0.6.0,>=0.5.7 (from langchain==0.0.274->-r requirements.txt (line 1))\n",
            "  Downloading dataclasses_json-0.5.14-py3-none-any.whl (26 kB)\n",
            "Collecting langsmith<0.1.0,>=0.0.21 (from langchain==0.0.274->-r requirements.txt (line 1))\n",
            "  Downloading langsmith-0.0.86-py3-none-any.whl (54 kB)\n",
            "\u001b[2K     \u001b[90m━━━━━━━━━━━━━━━━━━━━━━━━━━━━━━━━━━━━━━━━\u001b[0m \u001b[32m54.4/54.4 kB\u001b[0m \u001b[31m8.1 MB/s\u001b[0m eta \u001b[36m0:00:00\u001b[0m\n",
            "\u001b[?25hRequirement already satisfied: numexpr<3.0.0,>=2.8.4 in /usr/local/lib/python3.10/dist-packages (from langchain==0.0.274->-r requirements.txt (line 1)) (2.9.0)\n",
            "Requirement already satisfied: numpy<2,>=1 in /usr/local/lib/python3.10/dist-packages (from langchain==0.0.274->-r requirements.txt (line 1)) (1.23.5)\n",
            "Requirement already satisfied: pydantic<3,>=1 in /usr/local/lib/python3.10/dist-packages (from langchain==0.0.274->-r requirements.txt (line 1)) (1.10.14)\n",
            "Requirement already satisfied: requests<3,>=2 in /usr/local/lib/python3.10/dist-packages (from langchain==0.0.274->-r requirements.txt (line 1)) (2.31.0)\n",
            "Requirement already satisfied: tenacity<9.0.0,>=8.1.0 in /usr/local/lib/python3.10/dist-packages (from langchain==0.0.274->-r requirements.txt (line 1)) (8.2.3)\n",
            "Collecting chroma-hnswlib==0.7.2 (from chromadb==0.4.7->-r requirements.txt (line 3))\n",
            "  Downloading chroma-hnswlib-0.7.2.tar.gz (31 kB)\n",
            "  Installing build dependencies ... \u001b[?25l\u001b[?25hdone\n",
            "  Getting requirements to build wheel ... \u001b[?25l\u001b[?25hdone\n",
            "  Preparing metadata (pyproject.toml) ... \u001b[?25l\u001b[?25hdone\n",
            "Collecting fastapi<0.100.0,>=0.95.2 (from chromadb==0.4.7->-r requirements.txt (line 3))\n",
            "  Downloading fastapi-0.99.1-py3-none-any.whl (58 kB)\n",
            "\u001b[2K     \u001b[90m━━━━━━━━━━━━━━━━━━━━━━━━━━━━━━━━━━━━━━━━\u001b[0m \u001b[32m58.4/58.4 kB\u001b[0m \u001b[31m8.2 MB/s\u001b[0m eta \u001b[36m0:00:00\u001b[0m\n",
            "\u001b[?25hCollecting uvicorn[standard]>=0.18.3 (from chromadb==0.4.7->-r requirements.txt (line 3))\n",
            "  Downloading uvicorn-0.27.0.post1-py3-none-any.whl (60 kB)\n",
            "\u001b[2K     \u001b[90m━━━━━━━━━━━━━━━━━━━━━━━━━━━━━━━━━━━━━━━━\u001b[0m \u001b[32m60.7/60.7 kB\u001b[0m \u001b[31m9.1 MB/s\u001b[0m eta \u001b[36m0:00:00\u001b[0m\n",
            "\u001b[?25hCollecting posthog>=2.4.0 (from chromadb==0.4.7->-r requirements.txt (line 3))\n",
            "  Downloading posthog-3.3.4-py2.py3-none-any.whl (40 kB)\n",
            "\u001b[2K     \u001b[90m━━━━━━━━━━━━━━━━━━━━━━━━━━━━━━━━━━━━━━━━\u001b[0m \u001b[32m40.8/40.8 kB\u001b[0m \u001b[31m5.1 MB/s\u001b[0m eta \u001b[36m0:00:00\u001b[0m\n",
            "\u001b[?25hRequirement already satisfied: typing-extensions>=4.5.0 in /usr/local/lib/python3.10/dist-packages (from chromadb==0.4.7->-r requirements.txt (line 3)) (4.5.0)\n",
            "Collecting pulsar-client>=3.1.0 (from chromadb==0.4.7->-r requirements.txt (line 3))\n",
            "  Downloading pulsar_client-3.4.0-cp310-cp310-manylinux_2_17_x86_64.manylinux2014_x86_64.whl (5.4 MB)\n",
            "\u001b[2K     \u001b[90m━━━━━━━━━━━━━━━━━━━━━━━━━━━━━━━━━━━━━━━━\u001b[0m \u001b[32m5.4/5.4 MB\u001b[0m \u001b[31m96.6 MB/s\u001b[0m eta \u001b[36m0:00:00\u001b[0m\n",
            "\u001b[?25hCollecting onnxruntime>=1.14.1 (from chromadb==0.4.7->-r requirements.txt (line 3))\n",
            "  Downloading onnxruntime-1.17.0-cp310-cp310-manylinux_2_27_x86_64.manylinux_2_28_x86_64.whl (6.8 MB)\n",
            "\u001b[2K     \u001b[90m━━━━━━━━━━━━━━━━━━━━━━━━━━━━━━━━━━━━━━━━\u001b[0m \u001b[32m6.8/6.8 MB\u001b[0m \u001b[31m72.0 MB/s\u001b[0m eta \u001b[36m0:00:00\u001b[0m\n",
            "\u001b[?25hRequirement already satisfied: tokenizers>=0.13.2 in /usr/local/lib/python3.10/dist-packages (from chromadb==0.4.7->-r requirements.txt (line 3)) (0.15.1)\n",
            "Collecting pypika>=0.48.9 (from chromadb==0.4.7->-r requirements.txt (line 3))\n",
            "  Downloading PyPika-0.48.9.tar.gz (67 kB)\n",
            "\u001b[2K     \u001b[90m━━━━━━━━━━━━━━━━━━━━━━━━━━━━━━━━━━━━━━━━\u001b[0m \u001b[32m67.3/67.3 kB\u001b[0m \u001b[31m10.5 MB/s\u001b[0m eta \u001b[36m0:00:00\u001b[0m\n",
            "\u001b[?25h  Installing build dependencies ... \u001b[?25l\u001b[?25hdone\n",
            "  Getting requirements to build wheel ... \u001b[?25l\u001b[?25hdone\n",
            "  Preparing metadata (pyproject.toml) ... \u001b[?25l\u001b[?25hdone\n",
            "Collecting overrides>=7.3.1 (from chromadb==0.4.7->-r requirements.txt (line 3))\n",
            "  Downloading overrides-7.7.0-py3-none-any.whl (17 kB)\n",
            "Requirement already satisfied: importlib-resources in /usr/local/lib/python3.10/dist-packages (from chromadb==0.4.7->-r requirements.txt (line 3)) (6.1.1)\n",
            "Collecting bcrypt>=4.0.1 (from chromadb==0.4.7->-r requirements.txt (line 3))\n",
            "  Downloading bcrypt-4.1.2-cp39-abi3-manylinux_2_28_x86_64.whl (698 kB)\n",
            "\u001b[2K     \u001b[90m━━━━━━━━━━━━━━━━━━━━━━━━━━━━━━━━━━━━━━━━\u001b[0m \u001b[32m698.9/698.9 kB\u001b[0m \u001b[31m63.0 MB/s\u001b[0m eta \u001b[36m0:00:00\u001b[0m\n",
            "\u001b[?25hRequirement already satisfied: diskcache>=5.6.1 in /usr/local/lib/python3.10/dist-packages (from llama-cpp-python==0.1.81->-r requirements.txt (line 4)) (5.6.3)\n",
            "Collecting PyMuPDFb==1.23.0 (from PyMuPDF==1.23.1->-r requirements.txt (line 6))\n",
            "  Downloading PyMuPDFb-1.23.0-py3-none-manylinux2014_x86_64.manylinux_2_17_x86_64.whl (26.3 MB)\n",
            "\u001b[2K     \u001b[90m━━━━━━━━━━━━━━━━━━━━━━━━━━━━━━━━━━━━━━━━\u001b[0m \u001b[32m26.3/26.3 MB\u001b[0m \u001b[31m5.4 MB/s\u001b[0m eta \u001b[36m0:00:00\u001b[0m\n",
            "\u001b[?25hRequirement already satisfied: chardet in /usr/local/lib/python3.10/dist-packages (from unstructured==0.10.8->-r requirements.txt (line 8)) (5.2.0)\n",
            "Collecting filetype (from unstructured==0.10.8->-r requirements.txt (line 8))\n",
            "  Downloading filetype-1.2.0-py2.py3-none-any.whl (19 kB)\n",
            "Collecting python-magic (from unstructured==0.10.8->-r requirements.txt (line 8))\n",
            "  Downloading python_magic-0.4.27-py2.py3-none-any.whl (13 kB)\n",
            "Requirement already satisfied: lxml in /usr/local/lib/python3.10/dist-packages (from unstructured==0.10.8->-r requirements.txt (line 8)) (4.9.4)\n",
            "Requirement already satisfied: nltk in /usr/local/lib/python3.10/dist-packages (from unstructured==0.10.8->-r requirements.txt (line 8)) (3.8.1)\n",
            "Requirement already satisfied: beautifulsoup4 in /usr/local/lib/python3.10/dist-packages (from unstructured==0.10.8->-r requirements.txt (line 8)) (4.12.3)\n",
            "Collecting emoji (from unstructured==0.10.8->-r requirements.txt (line 8))\n",
            "  Downloading emoji-2.10.1-py2.py3-none-any.whl (421 kB)\n",
            "\u001b[2K     \u001b[90m━━━━━━━━━━━━━━━━━━━━━━━━━━━━━━━━━━━━━━━━\u001b[0m \u001b[32m421.5/421.5 kB\u001b[0m \u001b[31m48.0 MB/s\u001b[0m eta \u001b[36m0:00:00\u001b[0m\n",
            "\u001b[?25hCollecting imapclient<3,>=2.3.0 (from extract-msg==0.45.0->-r requirements.txt (line 9))\n",
            "  Downloading IMAPClient-2.3.1-py2.py3-none-any.whl (181 kB)\n",
            "\u001b[2K     \u001b[90m━━━━━━━━━━━━━━━━━━━━━━━━━━━━━━━━━━━━━━━━\u001b[0m \u001b[32m181.3/181.3 kB\u001b[0m \u001b[31m26.3 MB/s\u001b[0m eta \u001b[36m0:00:00\u001b[0m\n",
            "\u001b[?25hCollecting olefile==0.46 (from extract-msg==0.45.0->-r requirements.txt (line 9))\n",
            "  Downloading olefile-0.46.zip (112 kB)\n",
            "\u001b[2K     \u001b[90m━━━━━━━━━━━━━━━━━━━━━━━━━━━━━━━━━━━━━━━━\u001b[0m \u001b[32m112.2/112.2 kB\u001b[0m \u001b[31m16.8 MB/s\u001b[0m eta \u001b[36m0:00:00\u001b[0m\n",
            "\u001b[?25h  Preparing metadata (setup.py) ... \u001b[?25l\u001b[?25hdone\n",
            "Requirement already satisfied: tzlocal<6,>=4.2 in /usr/local/lib/python3.10/dist-packages (from extract-msg==0.45.0->-r requirements.txt (line 9)) (5.2)\n",
            "Collecting compressed-rtf<2,>=1.0.6 (from extract-msg==0.45.0->-r requirements.txt (line 9))\n",
            "  Downloading compressed_rtf-1.0.6.tar.gz (5.8 kB)\n",
            "  Preparing metadata (setup.py) ... \u001b[?25l\u001b[?25hdone\n",
            "Collecting ebcdic<2,>=1.1.1 (from extract-msg==0.45.0->-r requirements.txt (line 9))\n",
            "  Downloading ebcdic-1.1.1-py2.py3-none-any.whl (128 kB)\n",
            "\u001b[2K     \u001b[90m━━━━━━━━━━━━━━━━━━━━━━━━━━━━━━━━━━━━━━━━\u001b[0m \u001b[32m128.5/128.5 kB\u001b[0m \u001b[31m20.3 MB/s\u001b[0m eta \u001b[36m0:00:00\u001b[0m\n",
            "\u001b[?25hCollecting RTFDE<0.2,>=0.1.0 (from extract-msg==0.45.0->-r requirements.txt (line 9))\n",
            "  Downloading RTFDE-0.1.1-py3-none-any.whl (36 kB)\n",
            "Collecting red-black-tree-mod==1.20 (from extract-msg==0.45.0->-r requirements.txt (line 9))\n",
            "  Downloading red-black-tree-mod-1.20.tar.gz (28 kB)\n",
            "  Preparing metadata (setup.py) ... \u001b[?25l\u001b[?25hdone\n",
            "Collecting plumbum (from pandoc==2.3->-r requirements.txt (line 11))\n",
            "  Downloading plumbum-1.8.2-py3-none-any.whl (127 kB)\n",
            "\u001b[2K     \u001b[90m━━━━━━━━━━━━━━━━━━━━━━━━━━━━━━━━━━━━━━━━\u001b[0m \u001b[32m127.0/127.0 kB\u001b[0m \u001b[31m20.0 MB/s\u001b[0m eta \u001b[36m0:00:00\u001b[0m\n",
            "\u001b[?25hCollecting ply (from pandoc==2.3->-r requirements.txt (line 11))\n",
            "  Downloading ply-3.11-py2.py3-none-any.whl (49 kB)\n",
            "\u001b[2K     \u001b[90m━━━━━━━━━━━━━━━━━━━━━━━━━━━━━━━━━━━━━━━━\u001b[0m \u001b[32m49.6/49.6 kB\u001b[0m \u001b[31m8.0 MB/s\u001b[0m eta \u001b[36m0:00:00\u001b[0m\n",
            "\u001b[?25hRequirement already satisfied: transformers<5.0.0,>=4.6.0 in /usr/local/lib/python3.10/dist-packages (from sentence_transformers==2.2.2->-r requirements.txt (line 14)) (4.35.2)\n",
            "Requirement already satisfied: torch>=1.6.0 in /usr/local/lib/python3.10/dist-packages (from sentence_transformers==2.2.2->-r requirements.txt (line 14)) (2.1.0+cu121)\n",
            "Requirement already satisfied: torchvision in /usr/local/lib/python3.10/dist-packages (from sentence_transformers==2.2.2->-r requirements.txt (line 14)) (0.16.0+cu121)\n",
            "Requirement already satisfied: scikit-learn in /usr/local/lib/python3.10/dist-packages (from sentence_transformers==2.2.2->-r requirements.txt (line 14)) (1.2.2)\n",
            "Requirement already satisfied: scipy in /usr/local/lib/python3.10/dist-packages (from sentence_transformers==2.2.2->-r requirements.txt (line 14)) (1.11.4)\n",
            "Requirement already satisfied: sentencepiece in /usr/local/lib/python3.10/dist-packages (from sentence_transformers==2.2.2->-r requirements.txt (line 14)) (0.1.99)\n",
            "Requirement already satisfied: filelock in /usr/local/lib/python3.10/dist-packages (from huggingface_hub->-r requirements.txt (line 16)) (3.13.1)\n",
            "Requirement already satisfied: fsspec>=2023.5.0 in /usr/local/lib/python3.10/dist-packages (from huggingface_hub->-r requirements.txt (line 16)) (2023.6.0)\n",
            "Requirement already satisfied: packaging>=20.9 in /usr/local/lib/python3.10/dist-packages (from huggingface_hub->-r requirements.txt (line 16)) (23.2)\n",
            "Requirement already satisfied: aiosignal>=1.1.2 in /usr/local/lib/python3.10/dist-packages (from aiohttp<4.0.0,>=3.8.3->langchain==0.0.274->-r requirements.txt (line 1)) (1.3.1)\n",
            "Requirement already satisfied: attrs>=17.3.0 in /usr/local/lib/python3.10/dist-packages (from aiohttp<4.0.0,>=3.8.3->langchain==0.0.274->-r requirements.txt (line 1)) (23.2.0)\n",
            "Requirement already satisfied: frozenlist>=1.1.1 in /usr/local/lib/python3.10/dist-packages (from aiohttp<4.0.0,>=3.8.3->langchain==0.0.274->-r requirements.txt (line 1)) (1.4.1)\n",
            "Requirement already satisfied: multidict<7.0,>=4.5 in /usr/local/lib/python3.10/dist-packages (from aiohttp<4.0.0,>=3.8.3->langchain==0.0.274->-r requirements.txt (line 1)) (6.0.4)\n",
            "Requirement already satisfied: yarl<2.0,>=1.0 in /usr/local/lib/python3.10/dist-packages (from aiohttp<4.0.0,>=3.8.3->langchain==0.0.274->-r requirements.txt (line 1)) (1.9.4)\n",
            "Requirement already satisfied: soupsieve>1.2 in /usr/local/lib/python3.10/dist-packages (from beautifulsoup4->unstructured==0.10.8->-r requirements.txt (line 8)) (2.5)\n",
            "Collecting marshmallow<4.0.0,>=3.18.0 (from dataclasses-json<0.6.0,>=0.5.7->langchain==0.0.274->-r requirements.txt (line 1))\n",
            "  Downloading marshmallow-3.20.2-py3-none-any.whl (49 kB)\n",
            "\u001b[2K     \u001b[90m━━━━━━━━━━━━━━━━━━━━━━━━━━━━━━━━━━━━━━━━\u001b[0m \u001b[32m49.4/49.4 kB\u001b[0m \u001b[31m7.6 MB/s\u001b[0m eta \u001b[36m0:00:00\u001b[0m\n",
            "\u001b[?25hCollecting typing-inspect<1,>=0.4.0 (from dataclasses-json<0.6.0,>=0.5.7->langchain==0.0.274->-r requirements.txt (line 1))\n",
            "  Downloading typing_inspect-0.9.0-py3-none-any.whl (8.8 kB)\n",
            "Collecting starlette<0.28.0,>=0.27.0 (from fastapi<0.100.0,>=0.95.2->chromadb==0.4.7->-r requirements.txt (line 3))\n",
            "  Downloading starlette-0.27.0-py3-none-any.whl (66 kB)\n",
            "\u001b[2K     \u001b[90m━━━━━━━━━━━━━━━━━━━━━━━━━━━━━━━━━━━━━━━━\u001b[0m \u001b[32m67.0/67.0 kB\u001b[0m \u001b[31m9.2 MB/s\u001b[0m eta \u001b[36m0:00:00\u001b[0m\n",
            "\u001b[?25hRequirement already satisfied: six in /usr/local/lib/python3.10/dist-packages (from imapclient<3,>=2.3.0->extract-msg==0.45.0->-r requirements.txt (line 9)) (1.16.0)\n",
            "Collecting coloredlogs (from onnxruntime>=1.14.1->chromadb==0.4.7->-r requirements.txt (line 3))\n",
            "  Downloading coloredlogs-15.0.1-py2.py3-none-any.whl (46 kB)\n",
            "\u001b[2K     \u001b[90m━━━━━━━━━━━━━━━━━━━━━━━━━━━━━━━━━━━━━━━━\u001b[0m \u001b[32m46.0/46.0 kB\u001b[0m \u001b[31m6.4 MB/s\u001b[0m eta \u001b[36m0:00:00\u001b[0m\n",
            "\u001b[?25hRequirement already satisfied: flatbuffers in /usr/local/lib/python3.10/dist-packages (from onnxruntime>=1.14.1->chromadb==0.4.7->-r requirements.txt (line 3)) (23.5.26)\n",
            "Requirement already satisfied: protobuf in /usr/local/lib/python3.10/dist-packages (from onnxruntime>=1.14.1->chromadb==0.4.7->-r requirements.txt (line 3)) (3.20.3)\n",
            "Requirement already satisfied: sympy in /usr/local/lib/python3.10/dist-packages (from onnxruntime>=1.14.1->chromadb==0.4.7->-r requirements.txt (line 3)) (1.12)\n",
            "Collecting monotonic>=1.5 (from posthog>=2.4.0->chromadb==0.4.7->-r requirements.txt (line 3))\n",
            "  Downloading monotonic-1.6-py2.py3-none-any.whl (8.2 kB)\n",
            "Collecting backoff>=1.10.0 (from posthog>=2.4.0->chromadb==0.4.7->-r requirements.txt (line 3))\n",
            "  Downloading backoff-2.2.1-py3-none-any.whl (15 kB)\n",
            "Requirement already satisfied: python-dateutil>2.1 in /usr/local/lib/python3.10/dist-packages (from posthog>=2.4.0->chromadb==0.4.7->-r requirements.txt (line 3)) (2.8.2)\n",
            "Requirement already satisfied: certifi in /usr/local/lib/python3.10/dist-packages (from pulsar-client>=3.1.0->chromadb==0.4.7->-r requirements.txt (line 3)) (2023.11.17)\n",
            "Requirement already satisfied: charset-normalizer<4,>=2 in /usr/local/lib/python3.10/dist-packages (from requests<3,>=2->langchain==0.0.274->-r requirements.txt (line 1)) (3.3.2)\n",
            "Requirement already satisfied: idna<4,>=2.5 in /usr/local/lib/python3.10/dist-packages (from requests<3,>=2->langchain==0.0.274->-r requirements.txt (line 1)) (3.6)\n",
            "Collecting lark==1.1.8 (from RTFDE<0.2,>=0.1.0->extract-msg==0.45.0->-r requirements.txt (line 9))\n",
            "  Downloading lark-1.1.8-py3-none-any.whl (111 kB)\n",
            "\u001b[2K     \u001b[90m━━━━━━━━━━━━━━━━━━━━━━━━━━━━━━━━━━━━━━━━\u001b[0m \u001b[32m111.6/111.6 kB\u001b[0m \u001b[31m16.6 MB/s\u001b[0m eta \u001b[36m0:00:00\u001b[0m\n",
            "\u001b[?25hCollecting oletools>=0.56 (from RTFDE<0.2,>=0.1.0->extract-msg==0.45.0->-r requirements.txt (line 9))\n",
            "  Downloading oletools-0.60.1-py2.py3-none-any.whl (977 kB)\n",
            "\u001b[2K     \u001b[90m━━━━━━━━━━━━━━━━━━━━━━━━━━━━━━━━━━━━━━━━\u001b[0m \u001b[32m977.2/977.2 kB\u001b[0m \u001b[31m65.2 MB/s\u001b[0m eta \u001b[36m0:00:00\u001b[0m\n",
            "\u001b[?25hRequirement already satisfied: greenlet!=0.4.17 in /usr/local/lib/python3.10/dist-packages (from SQLAlchemy<3,>=1.4->langchain==0.0.274->-r requirements.txt (line 1)) (3.0.3)\n",
            "Requirement already satisfied: networkx in /usr/local/lib/python3.10/dist-packages (from torch>=1.6.0->sentence_transformers==2.2.2->-r requirements.txt (line 14)) (3.2.1)\n",
            "Requirement already satisfied: jinja2 in /usr/local/lib/python3.10/dist-packages (from torch>=1.6.0->sentence_transformers==2.2.2->-r requirements.txt (line 14)) (3.1.3)\n",
            "Requirement already satisfied: triton==2.1.0 in /usr/local/lib/python3.10/dist-packages (from torch>=1.6.0->sentence_transformers==2.2.2->-r requirements.txt (line 14)) (2.1.0)\n",
            "Requirement already satisfied: regex!=2019.12.17 in /usr/local/lib/python3.10/dist-packages (from transformers<5.0.0,>=4.6.0->sentence_transformers==2.2.2->-r requirements.txt (line 14)) (2023.12.25)\n",
            "Requirement already satisfied: safetensors>=0.3.1 in /usr/local/lib/python3.10/dist-packages (from transformers<5.0.0,>=4.6.0->sentence_transformers==2.2.2->-r requirements.txt (line 14)) (0.4.2)\n",
            "Requirement already satisfied: click>=7.0 in /usr/local/lib/python3.10/dist-packages (from uvicorn[standard]>=0.18.3->chromadb==0.4.7->-r requirements.txt (line 3)) (8.1.7)\n",
            "Collecting h11>=0.8 (from uvicorn[standard]>=0.18.3->chromadb==0.4.7->-r requirements.txt (line 3))\n",
            "  Downloading h11-0.14.0-py3-none-any.whl (58 kB)\n",
            "\u001b[2K     \u001b[90m━━━━━━━━━━━━━━━━━━━━━━━━━━━━━━━━━━━━━━━━\u001b[0m \u001b[32m58.3/58.3 kB\u001b[0m \u001b[31m9.2 MB/s\u001b[0m eta \u001b[36m0:00:00\u001b[0m\n",
            "\u001b[?25hCollecting httptools>=0.5.0 (from uvicorn[standard]>=0.18.3->chromadb==0.4.7->-r requirements.txt (line 3))\n",
            "  Downloading httptools-0.6.1-cp310-cp310-manylinux_2_5_x86_64.manylinux1_x86_64.manylinux_2_17_x86_64.manylinux2014_x86_64.whl (341 kB)\n",
            "\u001b[2K     \u001b[90m━━━━━━━━━━━━━━━━━━━━━━━━━━━━━━━━━━━━━━━━\u001b[0m \u001b[32m341.4/341.4 kB\u001b[0m \u001b[31m41.3 MB/s\u001b[0m eta \u001b[36m0:00:00\u001b[0m\n",
            "\u001b[?25hCollecting uvloop!=0.15.0,!=0.15.1,>=0.14.0 (from uvicorn[standard]>=0.18.3->chromadb==0.4.7->-r requirements.txt (line 3))\n",
            "  Downloading uvloop-0.19.0-cp310-cp310-manylinux_2_17_x86_64.manylinux2014_x86_64.whl (3.4 MB)\n",
            "\u001b[2K     \u001b[90m━━━━━━━━━━━━━━━━━━━━━━━━━━━━━━━━━━━━━━━━\u001b[0m \u001b[32m3.4/3.4 MB\u001b[0m \u001b[31m93.1 MB/s\u001b[0m eta \u001b[36m0:00:00\u001b[0m\n",
            "\u001b[?25hCollecting watchfiles>=0.13 (from uvicorn[standard]>=0.18.3->chromadb==0.4.7->-r requirements.txt (line 3))\n",
            "  Downloading watchfiles-0.21.0-cp310-cp310-manylinux_2_17_x86_64.manylinux2014_x86_64.whl (1.3 MB)\n",
            "\u001b[2K     \u001b[90m━━━━━━━━━━━━━━━━━━━━━━━━━━━━━━━━━━━━━━━━\u001b[0m \u001b[32m1.3/1.3 MB\u001b[0m \u001b[31m38.1 MB/s\u001b[0m eta \u001b[36m0:00:00\u001b[0m\n",
            "\u001b[?25hCollecting websockets>=10.4 (from uvicorn[standard]>=0.18.3->chromadb==0.4.7->-r requirements.txt (line 3))\n",
            "  Downloading websockets-12.0-cp310-cp310-manylinux_2_5_x86_64.manylinux1_x86_64.manylinux_2_17_x86_64.manylinux2014_x86_64.whl (130 kB)\n",
            "\u001b[2K     \u001b[90m━━━━━━━━━━━━━━━━━━━━━━━━━━━━━━━━━━━━━━━━\u001b[0m \u001b[32m130.2/130.2 kB\u001b[0m \u001b[31m14.3 MB/s\u001b[0m eta \u001b[36m0:00:00\u001b[0m\n",
            "\u001b[?25hRequirement already satisfied: joblib in /usr/local/lib/python3.10/dist-packages (from nltk->unstructured==0.10.8->-r requirements.txt (line 8)) (1.3.2)\n",
            "Requirement already satisfied: threadpoolctl>=2.0.0 in /usr/local/lib/python3.10/dist-packages (from scikit-learn->sentence_transformers==2.2.2->-r requirements.txt (line 14)) (3.2.0)\n",
            "Requirement already satisfied: pillow!=8.3.*,>=5.3.0 in /usr/local/lib/python3.10/dist-packages (from torchvision->sentence_transformers==2.2.2->-r requirements.txt (line 14)) (9.4.0)\n",
            "Collecting pyparsing<3,>=2.1.0 (from oletools>=0.56->RTFDE<0.2,>=0.1.0->extract-msg==0.45.0->-r requirements.txt (line 9))\n",
            "  Downloading pyparsing-2.4.7-py2.py3-none-any.whl (67 kB)\n",
            "\u001b[2K     \u001b[90m━━━━━━━━━━━━━━━━━━━━━━━━━━━━━━━━━━━━━━━━\u001b[0m \u001b[32m67.8/67.8 kB\u001b[0m \u001b[31m9.4 MB/s\u001b[0m eta \u001b[36m0:00:00\u001b[0m\n",
            "\u001b[?25hCollecting easygui (from oletools>=0.56->RTFDE<0.2,>=0.1.0->extract-msg==0.45.0->-r requirements.txt (line 9))\n",
            "  Downloading easygui-0.98.3-py2.py3-none-any.whl (92 kB)\n",
            "\u001b[2K     \u001b[90m━━━━━━━━━━━━━━━━━━━━━━━━━━━━━━━━━━━━━━━━\u001b[0m \u001b[32m92.7/92.7 kB\u001b[0m \u001b[31m13.6 MB/s\u001b[0m eta \u001b[36m0:00:00\u001b[0m\n",
            "\u001b[?25hCollecting colorclass (from oletools>=0.56->RTFDE<0.2,>=0.1.0->extract-msg==0.45.0->-r requirements.txt (line 9))\n",
            "  Downloading colorclass-2.2.2-py2.py3-none-any.whl (18 kB)\n",
            "Collecting pcodedmp>=1.2.5 (from oletools>=0.56->RTFDE<0.2,>=0.1.0->extract-msg==0.45.0->-r requirements.txt (line 9))\n",
            "  Downloading pcodedmp-1.2.6-py2.py3-none-any.whl (30 kB)\n",
            "Collecting msoffcrypto-tool (from oletools>=0.56->RTFDE<0.2,>=0.1.0->extract-msg==0.45.0->-r requirements.txt (line 9))\n",
            "  Downloading msoffcrypto_tool-5.3.1-py3-none-any.whl (46 kB)\n",
            "\u001b[2K     \u001b[90m━━━━━━━━━━━━━━━━━━━━━━━━━━━━━━━━━━━━━━━━\u001b[0m \u001b[32m46.4/46.4 kB\u001b[0m \u001b[31m6.0 MB/s\u001b[0m eta \u001b[36m0:00:00\u001b[0m\n",
            "\u001b[?25hRequirement already satisfied: anyio<5,>=3.4.0 in /usr/local/lib/python3.10/dist-packages (from starlette<0.28.0,>=0.27.0->fastapi<0.100.0,>=0.95.2->chromadb==0.4.7->-r requirements.txt (line 3)) (3.7.1)\n",
            "Collecting mypy-extensions>=0.3.0 (from typing-inspect<1,>=0.4.0->dataclasses-json<0.6.0,>=0.5.7->langchain==0.0.274->-r requirements.txt (line 1))\n",
            "  Downloading mypy_extensions-1.0.0-py3-none-any.whl (4.7 kB)\n",
            "Collecting humanfriendly>=9.1 (from coloredlogs->onnxruntime>=1.14.1->chromadb==0.4.7->-r requirements.txt (line 3))\n",
            "  Downloading humanfriendly-10.0-py2.py3-none-any.whl (86 kB)\n",
            "\u001b[2K     \u001b[90m━━━━━━━━━━━━━━━━━━━━━━━━━━━━━━━━━━━━━━━━\u001b[0m \u001b[32m86.8/86.8 kB\u001b[0m \u001b[31m13.2 MB/s\u001b[0m eta \u001b[36m0:00:00\u001b[0m\n",
            "\u001b[?25hRequirement already satisfied: MarkupSafe>=2.0 in /usr/local/lib/python3.10/dist-packages (from jinja2->torch>=1.6.0->sentence_transformers==2.2.2->-r requirements.txt (line 14)) (2.1.4)\n",
            "Requirement already satisfied: mpmath>=0.19 in /usr/local/lib/python3.10/dist-packages (from sympy->onnxruntime>=1.14.1->chromadb==0.4.7->-r requirements.txt (line 3)) (1.3.0)\n",
            "Requirement already satisfied: sniffio>=1.1 in /usr/local/lib/python3.10/dist-packages (from anyio<5,>=3.4.0->starlette<0.28.0,>=0.27.0->fastapi<0.100.0,>=0.95.2->chromadb==0.4.7->-r requirements.txt (line 3)) (1.3.0)\n",
            "Requirement already satisfied: exceptiongroup in /usr/local/lib/python3.10/dist-packages (from anyio<5,>=3.4.0->starlette<0.28.0,>=0.27.0->fastapi<0.100.0,>=0.95.2->chromadb==0.4.7->-r requirements.txt (line 3)) (1.2.0)\n",
            "Requirement already satisfied: cryptography>=35.0 in /usr/local/lib/python3.10/dist-packages (from msoffcrypto-tool->oletools>=0.56->RTFDE<0.2,>=0.1.0->extract-msg==0.45.0->-r requirements.txt (line 9)) (42.0.2)\n",
            "Requirement already satisfied: cffi>=1.12 in /usr/local/lib/python3.10/dist-packages (from cryptography>=35.0->msoffcrypto-tool->oletools>=0.56->RTFDE<0.2,>=0.1.0->extract-msg==0.45.0->-r requirements.txt (line 9)) (1.16.0)\n",
            "Requirement already satisfied: pycparser in /usr/local/lib/python3.10/dist-packages (from cffi>=1.12->cryptography>=35.0->msoffcrypto-tool->oletools>=0.56->RTFDE<0.2,>=0.1.0->extract-msg==0.45.0->-r requirements.txt (line 9)) (2.21)\n",
            "Building wheels for collected packages: llama-cpp-python, pandoc, sentence_transformers, chroma-hnswlib, olefile, red-black-tree-mod, compressed-rtf, pypika\n",
            "  Building wheel for llama-cpp-python (pyproject.toml) ... \u001b[?25l\u001b[?25hdone\n",
            "  Created wheel for llama-cpp-python: filename=llama_cpp_python-0.1.81-cp310-cp310-linux_x86_64.whl size=409165 sha256=0b0cd338b623b83bd6279402c4058cd9b718c2c9bfc75764520865f64bb84254\n",
            "  Stored in directory: /root/.cache/pip/wheels/99/27/c0/ccda486d8dc16ebb8c61d9d7959380eced2cb3279cf0145dfe\n",
            "  Building wheel for pandoc (setup.py) ... \u001b[?25l\u001b[?25hdone\n",
            "  Created wheel for pandoc: filename=pandoc-2.3-py3-none-any.whl size=33261 sha256=5959d814f4b251c4a7dfedb12345aae30b702653277fb4e995bcef8198b95744\n",
            "  Stored in directory: /root/.cache/pip/wheels/76/27/c2/c26175310aadcb8741b77657a1bb49c50cc7d4cdbf9eee0005\n",
            "  Building wheel for sentence_transformers (setup.py) ... \u001b[?25l\u001b[?25hdone\n",
            "  Created wheel for sentence_transformers: filename=sentence_transformers-2.2.2-py3-none-any.whl size=125923 sha256=c884d57131fb2f62dd1bc72526fcae370a14cadc5b5cebaf981cd09980fbb795\n",
            "  Stored in directory: /root/.cache/pip/wheels/62/f2/10/1e606fd5f02395388f74e7462910fe851042f97238cbbd902f\n",
            "  Building wheel for chroma-hnswlib (pyproject.toml) ... \u001b[?25l\u001b[?25hdone\n",
            "  Created wheel for chroma-hnswlib: filename=chroma_hnswlib-0.7.2-cp310-cp310-linux_x86_64.whl size=2285657 sha256=246146a830832a76f5bd1a628770bc82cc0737707d1a5c2a62ce14064a9f9aeb\n",
            "  Stored in directory: /root/.cache/pip/wheels/11/2b/0d/ee457f6782f75315bb5828d5c2dc5639d471afbd44a830b9dc\n",
            "  Building wheel for olefile (setup.py) ... \u001b[?25l\u001b[?25hdone\n",
            "  Created wheel for olefile: filename=olefile-0.46-py2.py3-none-any.whl size=35416 sha256=7b34be8ed6a912226956b88c9024f6dd8634ec614bdc397e8c64e0c03ba9df90\n",
            "  Stored in directory: /root/.cache/pip/wheels/02/39/c0/9eb1f7a42b4b38f6f333b6314d4ed11c46f12a0f7b78194f0d\n",
            "  Building wheel for red-black-tree-mod (setup.py) ... \u001b[?25l\u001b[?25hdone\n",
            "  Created wheel for red-black-tree-mod: filename=red_black_tree_mod-1.20-py3-none-any.whl size=18620 sha256=d5f353f164641da1c3133303339d9d74c0e11e6ce6e7b0d88c801ea60cfcebe0\n",
            "  Stored in directory: /root/.cache/pip/wheels/1e/89/a0/17d08e78a59e4e8f51a95fe52e19c6916450c143acc7bce4dd\n",
            "  Building wheel for compressed-rtf (setup.py) ... \u001b[?25l\u001b[?25hdone\n",
            "  Created wheel for compressed-rtf: filename=compressed_rtf-1.0.6-py3-none-any.whl size=6184 sha256=cd82d2a2fb8449593631029cba096e9f4992c70fe3c4a878c925be0fb404c975\n",
            "  Stored in directory: /root/.cache/pip/wheels/15/3e/48/e7d833ecc516c36f8966d310b1a6386db091a718f1ff3bf85c\n",
            "  Building wheel for pypika (pyproject.toml) ... \u001b[?25l\u001b[?25hdone\n",
            "  Created wheel for pypika: filename=PyPika-0.48.9-py2.py3-none-any.whl size=53723 sha256=679075f3f5179dbf4045430f5b5f961f3abd5017c8146216c06b1117758de935\n",
            "  Stored in directory: /root/.cache/pip/wheels/e1/26/51/d0bffb3d2fd82256676d7ad3003faea3bd6dddc9577af665f4\n",
            "Successfully built llama-cpp-python pandoc sentence_transformers chroma-hnswlib olefile red-black-tree-mod compressed-rtf pypika\n",
            "Installing collected packages: red-black-tree-mod, pypika, ply, monotonic, InstructorEmbedding, filetype, ebcdic, easygui, compressed-rtf, websockets, uvloop, urllib3, python-magic, python-dotenv, pyparsing, pypandoc, PyMuPDFb, pulsar-client, plumbum, overrides, olefile, mypy-extensions, marshmallow, llama-cpp-python, lark, imapclient, humanfriendly, httptools, h11, emoji, colorclass, chroma-hnswlib, bcrypt, backoff, watchfiles, uvicorn, typing-inspect, starlette, PyMuPDF, pandoc, coloredlogs, unstructured, posthog, onnxruntime, msoffcrypto-tool, langsmith, gpt4all, fastapi, dataclasses-json, langchain, chromadb, sentence_transformers, pcodedmp, oletools, RTFDE, extract-msg\n",
            "  Attempting uninstall: urllib3\n",
            "    Found existing installation: urllib3 2.0.7\n",
            "    Uninstalling urllib3-2.0.7:\n",
            "      Successfully uninstalled urllib3-2.0.7\n",
            "  Attempting uninstall: pyparsing\n",
            "    Found existing installation: pyparsing 3.1.1\n",
            "    Uninstalling pyparsing-3.1.1:\n",
            "      Successfully uninstalled pyparsing-3.1.1\n",
            "\u001b[31mERROR: pip's dependency resolver does not currently take into account all the packages that are installed. This behaviour is the source of the following dependency conflicts.\n",
            "lida 0.0.10 requires kaleido, which is not installed.\n",
            "lida 0.0.10 requires python-multipart, which is not installed.\u001b[0m\u001b[31m\n",
            "\u001b[0mSuccessfully installed InstructorEmbedding-1.0.1 PyMuPDF-1.23.1 PyMuPDFb-1.23.0 RTFDE-0.1.1 backoff-2.2.1 bcrypt-4.1.2 chroma-hnswlib-0.7.2 chromadb-0.4.7 colorclass-2.2.2 coloredlogs-15.0.1 compressed-rtf-1.0.6 dataclasses-json-0.5.14 easygui-0.98.3 ebcdic-1.1.1 emoji-2.10.1 extract-msg-0.45.0 fastapi-0.99.1 filetype-1.2.0 gpt4all-1.0.8 h11-0.14.0 httptools-0.6.1 humanfriendly-10.0 imapclient-2.3.1 langchain-0.0.274 langsmith-0.0.86 lark-1.1.8 llama-cpp-python-0.1.81 marshmallow-3.20.2 monotonic-1.6 msoffcrypto-tool-5.3.1 mypy-extensions-1.0.0 olefile-0.46 oletools-0.60.1 onnxruntime-1.17.0 overrides-7.7.0 pandoc-2.3 pcodedmp-1.2.6 plumbum-1.8.2 ply-3.11 posthog-3.3.4 pulsar-client-3.4.0 pypandoc-1.11 pyparsing-2.4.7 pypika-0.48.9 python-dotenv-1.0.0 python-magic-0.4.27 red-black-tree-mod-1.20 sentence_transformers-2.2.2 starlette-0.27.0 typing-inspect-0.9.0 unstructured-0.10.8 urllib3-2.0.4 uvicorn-0.27.0.post1 uvloop-0.19.0 watchfiles-0.21.0 websockets-12.0\n"
          ]
        },
        {
          "data": {
            "application/vnd.colab-display-data+json": {
              "pip_warning": {
                "packages": [
                  "pyparsing"
                ]
              }
            }
          },
          "metadata": {},
          "output_type": "display_data"
        }
      ],
      "source": [
        "!pip install -r requirements.txt"
      ]
    },
    {
      "cell_type": "code",
      "execution_count": 1,
      "metadata": {
        "colab": {
          "base_uri": "https://localhost:8080/"
        },
        "id": "YClYHhLSSd6u",
        "outputId": "c701e5a8-9bdd-45e3-c654-e85aa21823d1"
      },
      "outputs": [
        {
          "name": "stdout",
          "output_type": "stream",
          "text": [
            "Collecting llama-cpp-python\n",
            "  Downloading llama_cpp_python-0.2.38.tar.gz (10.7 MB)\n",
            "\u001b[2K     \u001b[90m━━━━━━━━━━━━━━━━━━━━━━━━━━━━━━━━━━━━━━━━\u001b[0m \u001b[32m10.7/10.7 MB\u001b[0m \u001b[31m226.7 MB/s\u001b[0m eta \u001b[36m0:00:00\u001b[0m\n",
            "\u001b[?25h  Installing build dependencies ... \u001b[?25l\u001b[?25hdone\n",
            "  Getting requirements to build wheel ... \u001b[?25l\u001b[?25hdone\n",
            "  Installing backend dependencies ... \u001b[?25l\u001b[?25hdone\n",
            "  Preparing metadata (pyproject.toml) ... \u001b[?25l\u001b[?25hdone\n",
            "Collecting typing-extensions>=4.5.0 (from llama-cpp-python)\n",
            "  Downloading typing_extensions-4.9.0-py3-none-any.whl (32 kB)\n",
            "Collecting numpy>=1.20.0 (from llama-cpp-python)\n",
            "  Downloading numpy-1.26.3-cp310-cp310-manylinux_2_17_x86_64.manylinux2014_x86_64.whl (18.2 MB)\n",
            "\u001b[2K     \u001b[90m━━━━━━━━━━━━━━━━━━━━━━━━━━━━━━━━━━━━━━━━\u001b[0m \u001b[32m18.2/18.2 MB\u001b[0m \u001b[31m264.5 MB/s\u001b[0m eta \u001b[36m0:00:00\u001b[0m\n",
            "\u001b[?25hCollecting diskcache>=5.6.1 (from llama-cpp-python)\n",
            "  Downloading diskcache-5.6.3-py3-none-any.whl (45 kB)\n",
            "\u001b[2K     \u001b[90m━━━━━━━━━━━━━━━━━━━━━━━━━━━━━━━━━━━━━━━━\u001b[0m \u001b[32m45.5/45.5 kB\u001b[0m \u001b[31m256.5 MB/s\u001b[0m eta \u001b[36m0:00:00\u001b[0m\n",
            "\u001b[?25hCollecting jinja2>=2.11.3 (from llama-cpp-python)\n",
            "  Downloading Jinja2-3.1.3-py3-none-any.whl (133 kB)\n",
            "\u001b[2K     \u001b[90m━━━━━━━━━━━━━━━━━━━━━━━━━━━━━━━━━━━━━━━━\u001b[0m \u001b[32m133.2/133.2 kB\u001b[0m \u001b[31m283.2 MB/s\u001b[0m eta \u001b[36m0:00:00\u001b[0m\n",
            "\u001b[?25hCollecting MarkupSafe>=2.0 (from jinja2>=2.11.3->llama-cpp-python)\n",
            "  Downloading MarkupSafe-2.1.5-cp310-cp310-manylinux_2_17_x86_64.manylinux2014_x86_64.whl (25 kB)\n",
            "Building wheels for collected packages: llama-cpp-python\n",
            "  Building wheel for llama-cpp-python (pyproject.toml) ... \u001b[?25l\u001b[?25hdone\n",
            "  Created wheel for llama-cpp-python: filename=llama_cpp_python-0.2.38-cp310-cp310-manylinux_2_35_x86_64.whl size=9660778 sha256=05399a298ba58819f6930679507463f6e9260133197ffb51b1ad97439c314476\n",
            "  Stored in directory: /tmp/pip-ephem-wheel-cache-ytkp4dzv/wheels/eb/58/77/20d3d9a235b4930050fbcde1ad4f0a4d054644269e801b08aa\n",
            "Successfully built llama-cpp-python\n",
            "Installing collected packages: typing-extensions, numpy, MarkupSafe, diskcache, jinja2, llama-cpp-python\n",
            "  Attempting uninstall: typing-extensions\n",
            "    Found existing installation: typing_extensions 4.5.0\n",
            "    Uninstalling typing_extensions-4.5.0:\n",
            "      Successfully uninstalled typing_extensions-4.5.0\n",
            "  Attempting uninstall: numpy\n",
            "    Found existing installation: numpy 1.23.5\n",
            "    Uninstalling numpy-1.23.5:\n",
            "      Successfully uninstalled numpy-1.23.5\n",
            "  Attempting uninstall: MarkupSafe\n",
            "    Found existing installation: MarkupSafe 2.1.4\n",
            "    Uninstalling MarkupSafe-2.1.4:\n",
            "      Successfully uninstalled MarkupSafe-2.1.4\n",
            "  Attempting uninstall: diskcache\n",
            "    Found existing installation: diskcache 5.6.3\n",
            "    Uninstalling diskcache-5.6.3:\n",
            "      Successfully uninstalled diskcache-5.6.3\n",
            "  Attempting uninstall: jinja2\n",
            "    Found existing installation: Jinja2 3.1.3\n",
            "    Uninstalling Jinja2-3.1.3:\n",
            "      Successfully uninstalled Jinja2-3.1.3\n",
            "  Attempting uninstall: llama-cpp-python\n",
            "    Found existing installation: llama_cpp_python 0.1.81\n",
            "    Uninstalling llama_cpp_python-0.1.81:\n",
            "      Successfully uninstalled llama_cpp_python-0.1.81\n",
            "\u001b[31mERROR: pip's dependency resolver does not currently take into account all the packages that are installed. This behaviour is the source of the following dependency conflicts.\n",
            "lida 0.0.10 requires kaleido, which is not installed.\n",
            "lida 0.0.10 requires python-multipart, which is not installed.\n",
            "llmx 0.0.15a0 requires cohere, which is not installed.\n",
            "llmx 0.0.15a0 requires openai, which is not installed.\n",
            "llmx 0.0.15a0 requires tiktoken, which is not installed.\n",
            "tensorflow-probability 0.22.0 requires typing-extensions<4.6.0, but you have typing-extensions 4.9.0 which is incompatible.\u001b[0m\u001b[31m\n",
            "\u001b[0mSuccessfully installed MarkupSafe-2.1.5 diskcache-5.6.3 jinja2-3.1.3 llama-cpp-python-0.2.38 numpy-1.26.3 typing-extensions-4.9.0\n"
          ]
        }
      ],
      "source": [
        "!CMAKE_ARGS=\"-DLLAMA_CUBLAS=on\" FORCE_CMAKE=1 pip install --upgrade --force-reinstall llama-cpp-python --no-cache-dir"
      ]
    },
    {
      "cell_type": "code",
      "execution_count": 2,
      "metadata": {
        "colab": {
          "base_uri": "https://localhost:8080/"
        },
        "id": "VL4t6JW7UgfQ",
        "outputId": "088d487d-c322-4826-fc62-eea4a21a908d"
      },
      "outputs": [
        {
          "name": "stdout",
          "output_type": "stream",
          "text": [
            "/content/Ask-Gita\n"
          ]
        }
      ],
      "source": [
        "%cd Ask-Gita"
      ]
    },
    {
      "cell_type": "code",
      "execution_count": 3,
      "metadata": {
        "colab": {
          "base_uri": "https://localhost:8080/"
        },
        "id": "y_985NnoUSY3",
        "outputId": "e220ba6f-b4f5-4070-88c1-295e367c630e"
      },
      "outputs": [
        {
          "name": "stdout",
          "output_type": "stream",
          "text": [
            "/content/Ask-Gita/models\n",
            "--2024-02-04 18:13:27--  https://huggingface.co/TheBloke/zephyr-7B-beta-GGUF/resolve/main/zephyr-7b-beta.Q5_K_M.gguf\n",
            "Resolving huggingface.co (huggingface.co)... 13.33.33.102, 13.33.33.20, 13.33.33.110, ...\n",
            "Connecting to huggingface.co (huggingface.co)|13.33.33.102|:443... connected.\n",
            "HTTP request sent, awaiting response... 302 Found\n",
            "Location: https://cdn-lfs-us-1.huggingface.co/repos/fe/17/fe17596731f84a0d03bece77489780bc7e068323c0aeca88b6393d3e9e65dd49/37894e5b171bd7228f4af7bd5bb0758dd29d6f07fb8e4742e387720f66bac434?response-content-disposition=attachment%3B+filename*%3DUTF-8%27%27zephyr-7b-beta.Q5_K_M.gguf%3B+filename%3D%22zephyr-7b-beta.Q5_K_M.gguf%22%3B&Expires=1707329608&Policy=eyJTdGF0ZW1lbnQiOlt7IkNvbmRpdGlvbiI6eyJEYXRlTGVzc1RoYW4iOnsiQVdTOkVwb2NoVGltZSI6MTcwNzMyOTYwOH19LCJSZXNvdXJjZSI6Imh0dHBzOi8vY2RuLWxmcy11cy0xLmh1Z2dpbmdmYWNlLmNvL3JlcG9zL2ZlLzE3L2ZlMTc1OTY3MzFmODRhMGQwM2JlY2U3NzQ4OTc4MGJjN2UwNjgzMjNjMGFlY2E4OGI2MzkzZDNlOWU2NWRkNDkvMzc4OTRlNWIxNzFiZDcyMjhmNGFmN2JkNWJiMDc1OGRkMjlkNmYwN2ZiOGU0NzQyZTM4NzcyMGY2NmJhYzQzND9yZXNwb25zZS1jb250ZW50LWRpc3Bvc2l0aW9uPSoifV19&Signature=QNuRO5gwmEbamQnHuU3Ht4es5mAwUDX4xUEgA3pNjvFdiQgBHaTQwNZah1a4PIUnb%7E%7EZSJHBG3J4QtcP0PJVo3JV0MPUVs2BAGdyAZroWY4bXTfPUHuHptY--5i8uTJ%7ETN2F5l39NTxlvQfCp7YtobMaDWTw-DXV0HfJefLcEcMX44rSy1YZ8gGNBGADEWaiev9Zm3JZB%7Eq26nLpwtHdvWZZhMJY9ThTYci-AtRFefkyUDI7Rc2vtDWXbNJpvxMzA5Ho7xqCSw5-qi5hA0-qq7mGvzQaLYKLRiMtVF3%7E-mpt0vxF21UJN4H-odJrDyZQE3BVmezA9UtXqqRfYPs7oA__&Key-Pair-Id=KCD77M1F0VK2B [following]\n",
            "--2024-02-04 18:13:28--  https://cdn-lfs-us-1.huggingface.co/repos/fe/17/fe17596731f84a0d03bece77489780bc7e068323c0aeca88b6393d3e9e65dd49/37894e5b171bd7228f4af7bd5bb0758dd29d6f07fb8e4742e387720f66bac434?response-content-disposition=attachment%3B+filename*%3DUTF-8%27%27zephyr-7b-beta.Q5_K_M.gguf%3B+filename%3D%22zephyr-7b-beta.Q5_K_M.gguf%22%3B&Expires=1707329608&Policy=eyJTdGF0ZW1lbnQiOlt7IkNvbmRpdGlvbiI6eyJEYXRlTGVzc1RoYW4iOnsiQVdTOkVwb2NoVGltZSI6MTcwNzMyOTYwOH19LCJSZXNvdXJjZSI6Imh0dHBzOi8vY2RuLWxmcy11cy0xLmh1Z2dpbmdmYWNlLmNvL3JlcG9zL2ZlLzE3L2ZlMTc1OTY3MzFmODRhMGQwM2JlY2U3NzQ4OTc4MGJjN2UwNjgzMjNjMGFlY2E4OGI2MzkzZDNlOWU2NWRkNDkvMzc4OTRlNWIxNzFiZDcyMjhmNGFmN2JkNWJiMDc1OGRkMjlkNmYwN2ZiOGU0NzQyZTM4NzcyMGY2NmJhYzQzND9yZXNwb25zZS1jb250ZW50LWRpc3Bvc2l0aW9uPSoifV19&Signature=QNuRO5gwmEbamQnHuU3Ht4es5mAwUDX4xUEgA3pNjvFdiQgBHaTQwNZah1a4PIUnb%7E%7EZSJHBG3J4QtcP0PJVo3JV0MPUVs2BAGdyAZroWY4bXTfPUHuHptY--5i8uTJ%7ETN2F5l39NTxlvQfCp7YtobMaDWTw-DXV0HfJefLcEcMX44rSy1YZ8gGNBGADEWaiev9Zm3JZB%7Eq26nLpwtHdvWZZhMJY9ThTYci-AtRFefkyUDI7Rc2vtDWXbNJpvxMzA5Ho7xqCSw5-qi5hA0-qq7mGvzQaLYKLRiMtVF3%7E-mpt0vxF21UJN4H-odJrDyZQE3BVmezA9UtXqqRfYPs7oA__&Key-Pair-Id=KCD77M1F0VK2B\n",
            "Resolving cdn-lfs-us-1.huggingface.co (cdn-lfs-us-1.huggingface.co)... 108.157.254.63, 108.157.254.127, 108.157.254.89, ...\n",
            "Connecting to cdn-lfs-us-1.huggingface.co (cdn-lfs-us-1.huggingface.co)|108.157.254.63|:443... connected.\n",
            "HTTP request sent, awaiting response... 200 OK\n",
            "Length: 5131409088 (4.8G) [binary/octet-stream]\n",
            "Saving to: ‘zephyr-7b-beta.Q5_K_M.gguf’\n",
            "\n",
            "zephyr-7b-beta.Q5_K 100%[===================>]   4.78G  20.2MB/s    in 4m 3s   \n",
            "\n",
            "2024-02-04 18:17:31 (20.2 MB/s) - ‘zephyr-7b-beta.Q5_K_M.gguf’ saved [5131409088/5131409088]\n",
            "\n"
          ]
        }
      ],
      "source": [
        "!mkdir models\n",
        "%cd models\n",
        "!wget https://huggingface.co/TheBloke/zephyr-7B-beta-GGUF/resolve/main/zephyr-7b-beta.Q5_K_M.gguf"
      ]
    },
    {
      "cell_type": "code",
      "execution_count": 4,
      "metadata": {
        "colab": {
          "base_uri": "https://localhost:8080/"
        },
        "id": "k4KgawyxUzy6",
        "outputId": "9631f3bb-5076-4f7e-c3a3-cc6fd23611f0"
      },
      "outputs": [
        {
          "name": "stdout",
          "output_type": "stream",
          "text": [
            "/content/Ask-Gita\n"
          ]
        }
      ],
      "source": [
        "%cd .."
      ]
    },
    {
      "cell_type": "markdown",
      "metadata": {
        "id": "nIU9JKKRU35_"
      },
      "source": [
        "rename ex.env to env"
      ]
    },
    {
      "cell_type": "code",
      "execution_count": 8,
      "metadata": {
        "colab": {
          "base_uri": "https://localhost:8080/"
        },
        "id": "W9V3h6AcU7bH",
        "outputId": "a707e53b-d0b4-4669-9477-25b70f595a00"
      },
      "outputs": [
        {
          "name": "stdout",
          "output_type": "stream",
          "text": [
            ".gitattributes: 100% 1.48k/1.48k [00:00<00:00, 7.94MB/s]\n",
            "1_Pooling/config.json: 100% 270/270 [00:00<00:00, 1.26MB/s]\n",
            "2_Dense/config.json: 100% 116/116 [00:00<00:00, 639kB/s]\n",
            "pytorch_model.bin: 100% 3.15M/3.15M [00:00<00:00, 160MB/s]\n",
            "README.md: 100% 66.3k/66.3k [00:00<00:00, 146MB/s]\n",
            "config.json: 100% 1.53k/1.53k [00:00<00:00, 8.79MB/s]\n",
            "config_sentence_transformers.json: 100% 122/122 [00:00<00:00, 720kB/s]\n",
            "pytorch_model.bin: 100% 1.34G/1.34G [00:08<00:00, 150MB/s]\n",
            "sentence_bert_config.json: 100% 53.0/53.0 [00:00<00:00, 279kB/s]\n",
            "special_tokens_map.json: 100% 2.20k/2.20k [00:00<00:00, 11.9MB/s]\n",
            "spiece.model: 100% 792k/792k [00:00<00:00, 316MB/s]\n",
            "tokenizer.json: 100% 2.42M/2.42M [00:01<00:00, 1.46MB/s]\n",
            "tokenizer_config.json: 100% 2.41k/2.41k [00:00<00:00, 11.7MB/s]\n",
            "modules.json: 100% 461/461 [00:00<00:00, 2.19MB/s]\n",
            "load INSTRUCTOR_Transformer\n",
            "max_seq_length  512\n",
            "Creating new vectorstore\n",
            "Loading documents from source_documents\n",
            "Loading new documents: 100%|██████████████████████| 1/1 [00:01<00:00,  1.38s/it]\n",
            "Loaded 2 new documents from source_documents\n",
            "Split into 3540 chunks of text (max. 600 tokens each)\n",
            "Creating embeddings. May take some minutes...\n",
            "Ingestion complete! You can now run chat_with_document.py to query your documents\n"
          ]
        }
      ],
      "source": [
        "!python load_document.py"
      ]
    },
    {
      "cell_type": "code",
      "execution_count": 12,
      "metadata": {
        "colab": {
          "base_uri": "https://localhost:8080/"
        },
        "id": "iOWhMyelXYnh",
        "outputId": "65026bf6-20f6-4f95-9c94-dc3aa64d2636"
      },
      "outputs": [
        {
          "name": "stdout",
          "output_type": "stream",
          "text": [
            "Token will not been saved to git credential helper. Pass `add_to_git_credential=True` if you want to set the git credential as well.\n",
            "Token is valid (permission: write).\n",
            "Your token has been saved to /root/.cache/huggingface/token\n",
            "Login successful\n"
          ]
        }
      ],
      "source": [
        "import os\n",
        "\n",
        "import config\n",
        "from huggingface_hub import login\n",
        "\n",
        "\n",
        "login(config.HuggingFaceHub_API_Token)"
      ]
    },
    {
      "cell_type": "code",
      "execution_count": 13,
      "metadata": {
        "colab": {
          "base_uri": "https://localhost:8080/"
        },
        "id": "0FCKqLVbV0YL",
        "outputId": "cf802499-3f74-4acb-db3f-0199db2d5f57"
      },
      "outputs": [
        {
          "name": "stdout",
          "output_type": "stream",
          "text": [
            "load INSTRUCTOR_Transformer\n",
            "max_seq_length  512\n",
            "config.json: 100% 1.18k/1.18k [00:00<00:00, 5.67MB/s]\n",
            "configuration_bert.py: 100% 8.24k/8.24k [00:00<00:00, 28.2MB/s]\n",
            "A new version of the following files was downloaded from https://huggingface.co/jinaai/jina-bert-implementation:\n",
            "- configuration_bert.py\n",
            ". Make sure to double-check they do not contain any added malicious code. To avoid downloading new versions of the code file, you can pin a revision.\n",
            "modeling_bert.py: 100% 97.5k/97.5k [00:00<00:00, 43.2MB/s]\n",
            "A new version of the following files was downloaded from https://huggingface.co/jinaai/jina-bert-implementation:\n",
            "- modeling_bert.py\n",
            ". Make sure to double-check they do not contain any added malicious code. To avoid downloading new versions of the code file, you can pin a revision.\n",
            "model.safetensors: 100% 275M/275M [00:01<00:00, 237MB/s]\n",
            "tokenizer_config.json: 100% 373/373 [00:00<00:00, 2.08MB/s]\n",
            "vocab.txt: 100% 232k/232k [00:00<00:00, 53.4MB/s]\n",
            "tokenizer.json: 100% 712k/712k [00:00<00:00, 726kB/s]\n",
            "special_tokens_map.json: 100% 125/125 [00:00<00:00, 601kB/s]\n",
            "\n",
            "Enter a query: What is life?\n",
            " Life is a combination of matter and soul, which is subjected to birth and death in the material realm due to the influence of God's two energies - jiva shakti and Maya. The consciousness acquired during our experiences in this life is temporary and delusory because from the moment we are born, death is inevitable. Those who forget their relationship with God and depart by the path of darkness continue to rotate in the cycle of life and death, whereas those who have undertaken some Vedic rituals go to the celestial abodes in the material world after death.\n",
            "\n",
            "> Question:\n",
            "What is life?\n",
            "\n",
            "> Answer (took 8.2 s.):\n",
            " Life is a combination of matter and soul, which is subjected to birth and death in the material realm due to the influence of God's two energies - jiva shakti and Maya. The consciousness acquired during our experiences in this life is temporary and delusory because from the moment we are born, death is inevitable. Those who forget their relationship with God and depart by the path of darkness continue to rotate in the cycle of life and death, whereas those who have undertaken some Vedic rituals go to the celestial abodes in the material world after death.\n",
            "\n",
            "> source_documents/gita.pdf:\n",
            "of life’s experiences. However, the most deluding dualities in life are birth and death. The arena of one’s life exists between the two ends of birth and death. From the very moment a living creature is born, death is inevitable, and again comes a subsequent-birth.Our material intellect believes that worldly pleasures will give\n",
            "\n",
            "> Score :- 0.9024238586425781\n",
            "\n",
            "Enter a query: Who are you?\n",
            " I am Vasudeva for the Vrishnis (the clan Sri Krsna belonged to), Dhananjaya (Arjuna) for the Pandavas, and Vyasa for the sages (munis). And for those who are advanced in knowledge (jnanis), I am the ultimate reality, the one without a second. (Chhāndogya Upaniṣhad 6.8.7 and Brhadāraṇyak Upaniṣhad 1.4.10) This is a statement about your true nature (as explained in the Upaniṣads). It is not a description of my relationship with you in this material world. In this world, I appear as your well-wisher and guide. But in truth, you are I, and I am you. The ultimate reality is not different from the individual soul (jiva). The individual soul is a part and parcel of the whole (paramātmā). This is confirmed in the Bhagavad-gītā (2.20): \"As all waves are only modifications of the ocean, as all flowers, leaves and fruits appear on a tree but are not the tree itself, so\n",
            "\n",
            "> Question:\n",
            "Who are you?\n",
            "\n",
            "> Answer (took 10.52 s.):\n",
            " I am Vasudeva for the Vrishnis (the clan Sri Krsna belonged to), Dhananjaya (Arjuna) for the Pandavas, and Vyasa for the sages (munis). And for those who are advanced in knowledge (jnanis), I am the ultimate reality, the one without a second. (Chhāndogya Upaniṣhad 6.8.7 and Brhadāraṇyak Upaniṣhad 1.4.10) This is a statement about your true nature (as explained in the Upaniṣads). It is not a description of my relationship with you in this material world. In this world, I appear as your well-wisher and guide. But in truth, you are I, and I am you. The ultimate reality is not different from the individual soul (jiva). The individual soul is a part and parcel of the whole (paramātmā). This is confirmed in the Bhagavad-gītā (2.20): \"As all waves are only modifications of the ocean, as all flowers, leaves and fruits appear on a tree but are not the tree itself, so\n",
            "\n",
            "> source_documents/gita.pdf:\n",
            "4\n",
            "13\n",
            "चातुर्वर्ण्यं मया सृष्टं गुणकर्मविभागश: | तस्य कर्तारमपि मां विद्ध्यकर्तारमव्ययम् ॥13॥\n",
            "The four castes have been created by Me through a classification of the gunas and duties. Even though I am the agent of that (act of classification), still know Me to be a non-agent and changeless.\n",
            "\n",
            "> Score :- 0.8017094135284424\n",
            "\n",
            "Enter a query: Why do I feel lonely?\n",
            " Your ego creates a perception of \"I\" that is not your real self. This unfulfilled want results in feelings of unease, restlessness, boredom, anxiety, and dissatisfaction, which create a distorted perception of reality and further alienate your perception of \"I\" from your real self. This perception of \"I\" makes you believe what you are not, creating a sense of loneliness.\n",
            "\n",
            "> Question:\n",
            "Why do I feel lonely?\n",
            "\n",
            "> Answer (took 3.99 s.):\n",
            " Your ego creates a perception of \"I\" that is not your real self. This unfulfilled want results in feelings of unease, restlessness, boredom, anxiety, and dissatisfaction, which create a distorted perception of reality and further alienate your perception of \"I\" from your real self. This perception of \"I\" makes you believe what you are not, creating a sense of loneliness.\n",
            "\n",
            "> source_documents/gita.pdf:\n",
            "following reasons:Worldly pleasures are finite, and hence the feeling of deficiency remains inherent in them.  One may feel happiness on becoming a millionaire, but the same millionaire becomes discontented on seeing a billionaire, and thinks, “If only I also had one billion, then I too would be happy.”  In contrast, the\n",
            "\n",
            "> Score :- 0.8135238885879517\n",
            "\n",
            "Enter a query: How to stop myself from being angry?\n",
            " By developing detachment and surrender to the will of God, one overcomes anger. The entire material energy belongs to God and it is meant for his pleasure. Hence, the opulences of the world are not for one’s own. This realization helps in detachment, which prevents anger. Additionally, repeatedly contemplating on spiritual truths helps in practically implementing spiritual knowledge in our lives, which further helps in stopping anger.\n",
            "\n",
            "> Question:\n",
            "How to stop myself from being angry?\n",
            "\n",
            "> Answer (took 3.82 s.):\n",
            " By developing detachment and surrender to the will of God, one overcomes anger. The entire material energy belongs to God and it is meant for his pleasure. Hence, the opulences of the world are not for one’s own. This realization helps in detachment, which prevents anger. Additionally, repeatedly contemplating on spiritual truths helps in practically implementing spiritual knowledge in our lives, which further helps in stopping anger.\n",
            "\n",
            "> source_documents/gita.pdf:\n",
            "the desires for happiness are obstructed and things do not turn out how one envisaged. By developing detachment and surrender to the will of God, one overcomes anger.Renunciation. The entire material energy belongs to God and it is meant for his pleasure. Hence, the opulences of the world are not for one’s\n",
            "\n",
            "> Score :- 0.924750030040741\n",
            "\n",
            "Enter a query: Who am I?\n",
            " You are a spiritual being. You have a soul. You are not your body or your mind. You are a unique individual, with your own thoughts and feelings. You have a purpose in life, and you are capable of achieving great things. You are a child of God, and you are loved unconditionally. Remember these things and let them guide you on your journey through life.\n",
            "\n",
            "> Question:\n",
            "Who am I?\n",
            "\n",
            "> Answer (took 3.74 s.):\n",
            "we have no such data regading your query, sorry !!\n",
            "\n",
            "Enter a query: Is this kalyug?\n",
            "\n",
            "The word kalyuga occurs in Sanskrit texts such as the Mahabharata and the Varaha Purana. These scriptures describe the kalyuga as a time of decline in spiritual and religious values and knowledge. The Mahabharata describes this time as the last of four yugas (ages or periods) in a cycle, each yuga being 12,000 divine years long (one divine year is equal to 360 earth years). The first age (Satya yuga) is described as a time when people are spiritually advanced and their lifespans are very long. The second age (Treta yuga) is described as a time when people are less spiritually advanced and their lifespans are shorter than in Satya yuga. The third age (Dvapara yuga) is described as a time when people are even less spiritually advanced than in Treta yuga and their lifespans are still shorter. In the fourth age (Kali yuga), which is the current age we live in according to these texts, people are described as being spiritually ignorant and their lifespans are very short. The scriptures also describe how the duration of each y\n",
            "\n",
            "> Question:\n",
            "Is this kalyug?\n",
            "\n",
            "> Answer (took 10.59 s.):\n",
            "\n",
            "The word kalyuga occurs in Sanskrit texts such as the Mahabharata and the Varaha Purana. These scriptures describe the kalyuga as a time of decline in spiritual and religious values and knowledge. The Mahabharata describes this time as the last of four yugas (ages or periods) in a cycle, each yuga being 12,000 divine years long (one divine year is equal to 360 earth years). The first age (Satya yuga) is described as a time when people are spiritually advanced and their lifespans are very long. The second age (Treta yuga) is described as a time when people are less spiritually advanced and their lifespans are shorter than in Satya yuga. The third age (Dvapara yuga) is described as a time when people are even less spiritually advanced than in Treta yuga and their lifespans are still shorter. In the fourth age (Kali yuga), which is the current age we live in according to these texts, people are described as being spiritually ignorant and their lifespans are very short. The scriptures also describe how the duration of each y\n",
            "\n",
            "> source_documents/gita.pdf:\n",
            "same planet; during Dwāpar-yug, they lived in the same family; and in Kali-yug, the godly and demoniac natures coexist in the same person’s heart. That is the dilemma of human existence, where the higher self pulls it upward toward God, while the lower self pulls it downward. Having described the saintly qualities,\n",
            "Shree Krishna now goes into an extended description of the lower nature, to help us recognize it and avoid it.\n",
            "16\n",
            "7\n",
            "प्रवृत्तिं च निवृत्तिं च जना न विदुरासुरा: | न शौचं नापि चाचारो न सत्यं तेषु विद्यते ॥7॥\n",
            "\n",
            "> Score :- 0.8212361335754395\n",
            "\n",
            "Enter a query: exit\n",
            "Exception ignored in: <function _LlamaModel.__del__ at 0x7907a37bec20>\n",
            "Traceback (most recent call last):\n",
            "  File \"/usr/local/lib/python3.10/dist-packages/llama_cpp/_internals.py\", line 57, in __del__\n",
            "  File \"/usr/local/lib/python3.10/dist-packages/llama_cpp/_utils.py\", line 38, in __enter__\n",
            "ValueError: I/O operation on closed file\n",
            "Exception ignored in: <function _LlamaContext.__del__ at 0x7907a37bfbe0>\n",
            "Traceback (most recent call last):\n",
            "  File \"/usr/local/lib/python3.10/dist-packages/llama_cpp/_internals.py\", line 265, in __del__\n",
            "  File \"/usr/local/lib/python3.10/dist-packages/llama_cpp/_utils.py\", line 38, in __enter__\n",
            "ValueError: I/O operation on closed file\n",
            "Exception ignored in: <function _LlamaBatch.__del__ at 0x7907a37ccf70>\n",
            "Traceback (most recent call last):\n",
            "  File \"/usr/local/lib/python3.10/dist-packages/llama_cpp/_internals.py\", line 515, in __del__\n",
            "  File \"/usr/local/lib/python3.10/dist-packages/llama_cpp/_utils.py\", line 38, in __enter__\n",
            "ValueError: I/O operation on closed file\n"
          ]
        }
      ],
      "source": [
        "!python chat_with_document.py"
      ]
    },
    {
      "cell_type": "code",
      "execution_count": null,
      "metadata": {
        "id": "tlO_I77pXD2V"
      },
      "outputs": [],
      "source": []
    }
  ],
  "metadata": {
    "accelerator": "GPU",
    "colab": {
      "gpuType": "T4",
      "provenance": []
    },
    "kernelspec": {
      "display_name": "Python 3",
      "name": "python3"
    },
    "language_info": {
      "name": "python"
    }
  },
  "nbformat": 4,
  "nbformat_minor": 0
}
